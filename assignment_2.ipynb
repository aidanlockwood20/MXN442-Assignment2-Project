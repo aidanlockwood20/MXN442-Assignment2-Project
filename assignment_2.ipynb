{
 "cells": [
  {
   "cell_type": "markdown",
   "id": "ef6ed55e",
   "metadata": {},
   "source": [
    "# MXN442 Assignment 2 Code"
   ]
  },
  {
   "cell_type": "markdown",
   "id": "ba12b556",
   "metadata": {},
   "source": [
    "## Importing Relevant Libraries"
   ]
  },
  {
   "cell_type": "code",
   "execution_count": 1,
   "id": "4fcd0d73",
   "metadata": {},
   "outputs": [],
   "source": [
    "import pandas as pd\n",
    "import numpy as np\n",
    "import ISLP"
   ]
  },
  {
   "cell_type": "markdown",
   "id": "e5de3f4f",
   "metadata": {},
   "source": [
    "## Reading in the Country Files"
   ]
  },
  {
   "cell_type": "code",
   "execution_count": 4,
   "id": "2bcd52bf",
   "metadata": {},
   "outputs": [
    {
     "data": {
      "text/plain": [
       "Series([], Name: count, dtype: int64)"
      ]
     },
     "execution_count": 4,
     "metadata": {},
     "output_type": "execute_result"
    }
   ],
   "source": [
    "country_1 = pd.read_csv('data/dfid2_py_210715_csv.csv')\n",
    "country_1['buyer_country'].value_counts()"
   ]
  },
  {
   "cell_type": "code",
   "execution_count": 5,
   "id": "c5e15e91",
   "metadata": {},
   "outputs": [],
   "source": [
    "country_2 = pd.read_csv('data/dfid2_uy_210715_csv.csv')"
   ]
  },
  {
   "cell_type": "code",
   "execution_count": 7,
   "id": "ccb9ff9e",
   "metadata": {},
   "outputs": [
    {
     "data": {
      "text/plain": [
       "Series([], Name: count, dtype: int64)"
      ]
     },
     "execution_count": 7,
     "metadata": {},
     "output_type": "execute_result"
    }
   ],
   "source": [
    "country_2['buyer_country'].value_counts()"
   ]
  },
  {
   "cell_type": "code",
   "execution_count": null,
   "id": "ac80437b",
   "metadata": {},
   "outputs": [],
   "source": [
    "country_3 = pd.read_csv('data/dfid2_mx_210715_csv.csv')\n",
    "country_3['buyer_country'].value_counts()"
   ]
  }
 ],
 "metadata": {
  "kernelspec": {
   "display_name": "mxn442_assignment_2",
   "language": "python",
   "name": "python3"
  },
  "language_info": {
   "codemirror_mode": {
    "name": "ipython",
    "version": 3
   },
   "file_extension": ".py",
   "mimetype": "text/x-python",
   "name": "python",
   "nbconvert_exporter": "python",
   "pygments_lexer": "ipython3",
   "version": "3.12.7"
  }
 },
 "nbformat": 4,
 "nbformat_minor": 5
}
