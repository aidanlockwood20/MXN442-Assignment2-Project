{
 "cells": [
  {
   "cell_type": "code",
   "execution_count": 46,
   "id": "7efb72cd-d113-405e-ad9e-c6b11125d2ea",
   "metadata": {},
   "outputs": [],
   "source": [
    "from sklearn.linear_model import Lasso\n",
    "import numpy as np\n",
    "from pytorch_lightning import seed_everything\n",
    "import torch\n",
    "import pandas as pd\n",
    "from sklearn.compose import ColumnTransformer\n",
    "from sklearn.preprocessing import StandardScaler, OneHotEncoder\n",
    "from sklearn.model_selection import train_test_split, KFold\n",
    "from sklearn.metrics import mean_absolute_error, mean_squared_error, r2_score"
   ]
  },
  {
   "cell_type": "code",
   "execution_count": 32,
   "id": "274f8a19-78ee-463b-93bf-c1965e07df7a",
   "metadata": {},
   "outputs": [],
   "source": [
    "#pip install pytorch-lightning "
   ]
  },
  {
   "cell_type": "code",
   "execution_count": 33,
   "id": "9cdd9ae8-524b-4cce-aa70-49768e14a357",
   "metadata": {},
   "outputs": [],
   "source": [
    "np.random.seed(0)"
   ]
  },
  {
   "cell_type": "code",
   "execution_count": 34,
   "id": "8d072922-35b8-4449-b7c5-8859bccd4a6c",
   "metadata": {},
   "outputs": [],
   "source": [
    "df = pd.read_csv('data/example_data.csv', delimiter = ',')"
   ]
  },
  {
   "cell_type": "code",
   "execution_count": 35,
   "id": "e06417d3-3097-459d-a64e-b0bdc29e05ab",
   "metadata": {},
   "outputs": [
    {
     "name": "stderr",
     "output_type": "stream",
     "text": [
      "/opt/conda/lib/python3.12/site-packages/sklearn/utils/extmath.py:1144: RuntimeWarning: invalid value encountered in divide\n",
      "  updated_mean = (last_sum + new_sum) / updated_sample_count\n",
      "/opt/conda/lib/python3.12/site-packages/sklearn/utils/extmath.py:1149: RuntimeWarning: invalid value encountered in divide\n",
      "  T = new_sum / new_sample_count\n",
      "/opt/conda/lib/python3.12/site-packages/sklearn/utils/extmath.py:1169: RuntimeWarning: invalid value encountered in divide\n",
      "  new_unnormalized_variance -= correction**2 / new_sample_count\n"
     ]
    }
   ],
   "source": [
    "# Define categorical and numerical columns\n",
    "categorical_cols = ['product_code', 'unit_of_measure', 'contract_type', 'buyer', 'supplier']\n",
    "numerical_cols = ['quantity', 'total_value']\n",
    "target_col = 'unit_price'  \n",
    "\n",
    "# Use log_unit_price\n",
    "df['log_unit_price'] = np.log(df[target_col])\n",
    "\n",
    "# Preprocessing of columns\n",
    "preprocessor = ColumnTransformer([\n",
    "    ('cat', OneHotEncoder(handle_unknown='ignore'), categorical_cols),\n",
    "    ('num', StandardScaler(), numerical_cols)\n",
    "])\n",
    "X = preprocessor.fit_transform(df)\n",
    "y = df['log_unit_price'].values"
   ]
  },
  {
   "cell_type": "code",
   "execution_count": null,
   "id": "1a6173c8-7a0a-406e-b2cb-d36de2f63177",
   "metadata": {},
   "outputs": [],
   "source": [
    "# Train/test split\n",
    "X_train, X_test, y_train, y_test = train_test_split(X, y, test_size=0.3, random_state=0)\n",
    "\n",
    "# Train/val split\n",
    "X_train, X_val, y_train, y_val = train_test_split(X_train, y_train, test_size=0.125, random_state=0)\n",
    "\n",
    "# X_train: 70% of original\n",
    "# X_val: 10% of original\n",
    "# X_test: 20% of original"
   ]
  },
  {
   "cell_type": "markdown",
   "id": "717bed5b-caac-49ed-9e28-89d6c88b4f4f",
   "metadata": {},
   "source": [
    "Lasso Regression"
   ]
  },
  {
   "cell_type": "code",
   "execution_count": 39,
   "id": "6d0cb75c-c532-421f-bd16-b7ac2552ba85",
   "metadata": {},
   "outputs": [],
   "source": [
    "# Calculate lambda_max for Lasso regression\n",
    "y_centered = y_train - y_train.mean()\n",
    "\n",
    "if hasattr(X_train, 'T'):  # if sparse matrix\n",
    "    lam_max = np.abs(X_train.T * y_centered).max()\n",
    "else:  # if dense matrix\n",
    "    lam_max = np.abs(X_train.T @ y_centered).max()"
   ]
  },
  {
   "cell_type": "code",
   "execution_count": 40,
   "id": "996a8131-ed1f-41cd-9f75-ea3a5c455f35",
   "metadata": {},
   "outputs": [],
   "source": [
    "# Create a series of 50 values for the regularization parameter \n",
    "lam_val = lam_max * np.exp(np.linspace(np.log(1), np.log(1e-4), 50))"
   ]
  },
  {
   "cell_type": "code",
   "execution_count": 42,
   "id": "d299b7a8-6473-4709-aee7-40ff4e4e4218",
   "metadata": {},
   "outputs": [],
   "source": [
    "# Initialize Lasso regression\n",
    "lasso = Lasso(alpha=lam_max,        \n",
    "              warm_start=True,      \n",
    "              fit_intercept=True,\n",
    "              max_iter=1000)"
   ]
  },
  {
   "cell_type": "code",
   "execution_count": 43,
   "id": "c16b8f05-1d0c-44e9-b7bc-bf9e4bc44eb3",
   "metadata": {},
   "outputs": [
    {
     "ename": "InvalidParameterError",
     "evalue": "The 'alpha' parameter of Lasso must be a float in the range [0.0, inf). Got np.float64(nan) instead.",
     "output_type": "error",
     "traceback": [
      "\u001b[31m---------------------------------------------------------------------------\u001b[39m",
      "\u001b[31mInvalidParameterError\u001b[39m                     Traceback (most recent call last)",
      "\u001b[36mCell\u001b[39m\u001b[36m \u001b[39m\u001b[32mIn[43]\u001b[39m\u001b[32m, line 6\u001b[39m\n\u001b[32m      4\u001b[39m \u001b[38;5;28;01mfor\u001b[39;00m l \u001b[38;5;129;01min\u001b[39;00m lam_val:\n\u001b[32m      5\u001b[39m     lasso.alpha = l\n\u001b[32m----> \u001b[39m\u001b[32m6\u001b[39m     \u001b[43mlasso\u001b[49m\u001b[43m.\u001b[49m\u001b[43mfit\u001b[49m\u001b[43m(\u001b[49m\u001b[43mX_train\u001b[49m\u001b[43m,\u001b[49m\u001b[43m \u001b[49m\u001b[43my_train\u001b[49m\u001b[43m)\u001b[49m\n\u001b[32m      7\u001b[39m     coefs.append(lasso.coef_.copy())\n\u001b[32m      8\u001b[39m     intercepts.append(lasso.intercept_)\n",
      "\u001b[36mFile \u001b[39m\u001b[32m/opt/conda/lib/python3.12/site-packages/sklearn/base.py:1358\u001b[39m, in \u001b[36m_fit_context.<locals>.decorator.<locals>.wrapper\u001b[39m\u001b[34m(estimator, *args, **kwargs)\u001b[39m\n\u001b[32m   1353\u001b[39m partial_fit_and_fitted = (\n\u001b[32m   1354\u001b[39m     fit_method.\u001b[34m__name__\u001b[39m == \u001b[33m\"\u001b[39m\u001b[33mpartial_fit\u001b[39m\u001b[33m\"\u001b[39m \u001b[38;5;129;01mand\u001b[39;00m _is_fitted(estimator)\n\u001b[32m   1355\u001b[39m )\n\u001b[32m   1357\u001b[39m \u001b[38;5;28;01mif\u001b[39;00m \u001b[38;5;129;01mnot\u001b[39;00m global_skip_validation \u001b[38;5;129;01mand\u001b[39;00m \u001b[38;5;129;01mnot\u001b[39;00m partial_fit_and_fitted:\n\u001b[32m-> \u001b[39m\u001b[32m1358\u001b[39m     \u001b[43mestimator\u001b[49m\u001b[43m.\u001b[49m\u001b[43m_validate_params\u001b[49m\u001b[43m(\u001b[49m\u001b[43m)\u001b[49m\n\u001b[32m   1360\u001b[39m \u001b[38;5;28;01mwith\u001b[39;00m config_context(\n\u001b[32m   1361\u001b[39m     skip_parameter_validation=(\n\u001b[32m   1362\u001b[39m         prefer_skip_nested_validation \u001b[38;5;129;01mor\u001b[39;00m global_skip_validation\n\u001b[32m   1363\u001b[39m     )\n\u001b[32m   1364\u001b[39m ):\n\u001b[32m   1365\u001b[39m     \u001b[38;5;28;01mreturn\u001b[39;00m fit_method(estimator, *args, **kwargs)\n",
      "\u001b[36mFile \u001b[39m\u001b[32m/opt/conda/lib/python3.12/site-packages/sklearn/base.py:471\u001b[39m, in \u001b[36mBaseEstimator._validate_params\u001b[39m\u001b[34m(self)\u001b[39m\n\u001b[32m    463\u001b[39m \u001b[38;5;28;01mdef\u001b[39;00m\u001b[38;5;250m \u001b[39m\u001b[34m_validate_params\u001b[39m(\u001b[38;5;28mself\u001b[39m):\n\u001b[32m    464\u001b[39m \u001b[38;5;250m    \u001b[39m\u001b[33;03m\"\"\"Validate types and values of constructor parameters\u001b[39;00m\n\u001b[32m    465\u001b[39m \n\u001b[32m    466\u001b[39m \u001b[33;03m    The expected type and values must be defined in the `_parameter_constraints`\u001b[39;00m\n\u001b[32m   (...)\u001b[39m\u001b[32m    469\u001b[39m \u001b[33;03m    accepted constraints.\u001b[39;00m\n\u001b[32m    470\u001b[39m \u001b[33;03m    \"\"\"\u001b[39;00m\n\u001b[32m--> \u001b[39m\u001b[32m471\u001b[39m     \u001b[43mvalidate_parameter_constraints\u001b[49m\u001b[43m(\u001b[49m\n\u001b[32m    472\u001b[39m \u001b[43m        \u001b[49m\u001b[38;5;28;43mself\u001b[39;49m\u001b[43m.\u001b[49m\u001b[43m_parameter_constraints\u001b[49m\u001b[43m,\u001b[49m\n\u001b[32m    473\u001b[39m \u001b[43m        \u001b[49m\u001b[38;5;28;43mself\u001b[39;49m\u001b[43m.\u001b[49m\u001b[43mget_params\u001b[49m\u001b[43m(\u001b[49m\u001b[43mdeep\u001b[49m\u001b[43m=\u001b[49m\u001b[38;5;28;43;01mFalse\u001b[39;49;00m\u001b[43m)\u001b[49m\u001b[43m,\u001b[49m\n\u001b[32m    474\u001b[39m \u001b[43m        \u001b[49m\u001b[43mcaller_name\u001b[49m\u001b[43m=\u001b[49m\u001b[38;5;28;43mself\u001b[39;49m\u001b[43m.\u001b[49m\u001b[34;43m__class__\u001b[39;49m\u001b[43m.\u001b[49m\u001b[34;43m__name__\u001b[39;49m\u001b[43m,\u001b[49m\n\u001b[32m    475\u001b[39m \u001b[43m    \u001b[49m\u001b[43m)\u001b[49m\n",
      "\u001b[36mFile \u001b[39m\u001b[32m/opt/conda/lib/python3.12/site-packages/sklearn/utils/_param_validation.py:98\u001b[39m, in \u001b[36mvalidate_parameter_constraints\u001b[39m\u001b[34m(parameter_constraints, params, caller_name)\u001b[39m\n\u001b[32m     92\u001b[39m \u001b[38;5;28;01melse\u001b[39;00m:\n\u001b[32m     93\u001b[39m     constraints_str = (\n\u001b[32m     94\u001b[39m         \u001b[33mf\u001b[39m\u001b[33m\"\u001b[39m\u001b[38;5;132;01m{\u001b[39;00m\u001b[33m'\u001b[39m\u001b[33m, \u001b[39m\u001b[33m'\u001b[39m.join([\u001b[38;5;28mstr\u001b[39m(c)\u001b[38;5;250m \u001b[39m\u001b[38;5;28;01mfor\u001b[39;00m\u001b[38;5;250m \u001b[39mc\u001b[38;5;250m \u001b[39m\u001b[38;5;129;01min\u001b[39;00m\u001b[38;5;250m \u001b[39mconstraints[:-\u001b[32m1\u001b[39m]])\u001b[38;5;132;01m}\u001b[39;00m\u001b[33m or\u001b[39m\u001b[33m\"\u001b[39m\n\u001b[32m     95\u001b[39m         \u001b[33mf\u001b[39m\u001b[33m\"\u001b[39m\u001b[33m \u001b[39m\u001b[38;5;132;01m{\u001b[39;00mconstraints[-\u001b[32m1\u001b[39m]\u001b[38;5;132;01m}\u001b[39;00m\u001b[33m\"\u001b[39m\n\u001b[32m     96\u001b[39m     )\n\u001b[32m---> \u001b[39m\u001b[32m98\u001b[39m \u001b[38;5;28;01mraise\u001b[39;00m InvalidParameterError(\n\u001b[32m     99\u001b[39m     \u001b[33mf\u001b[39m\u001b[33m\"\u001b[39m\u001b[33mThe \u001b[39m\u001b[38;5;132;01m{\u001b[39;00mparam_name\u001b[38;5;132;01m!r}\u001b[39;00m\u001b[33m parameter of \u001b[39m\u001b[38;5;132;01m{\u001b[39;00mcaller_name\u001b[38;5;132;01m}\u001b[39;00m\u001b[33m must be\u001b[39m\u001b[33m\"\u001b[39m\n\u001b[32m    100\u001b[39m     \u001b[33mf\u001b[39m\u001b[33m\"\u001b[39m\u001b[33m \u001b[39m\u001b[38;5;132;01m{\u001b[39;00mconstraints_str\u001b[38;5;132;01m}\u001b[39;00m\u001b[33m. Got \u001b[39m\u001b[38;5;132;01m{\u001b[39;00mparam_val\u001b[38;5;132;01m!r}\u001b[39;00m\u001b[33m instead.\u001b[39m\u001b[33m\"\u001b[39m\n\u001b[32m    101\u001b[39m )\n",
      "\u001b[31mInvalidParameterError\u001b[39m: The 'alpha' parameter of Lasso must be a float in the range [0.0, inf). Got np.float64(nan) instead."
     ]
    }
   ],
   "source": [
    "coefs = []\n",
    "intercepts = []\n",
    "\n",
    "for l in lam_val:\n",
    "    lasso.alpha = l\n",
    "    lasso.fit(X_train, y_train)\n",
    "    coefs.append(lasso.coef_.copy())\n",
    "    intercepts.append(lasso.intercept_)\n",
    "\n",
    "coefs = np.array(coefs)  \n",
    "intercepts = np.array(intercepts) \n",
    "\n",
    "# Evaluate on validation set to find best lambda\n",
    "val_errors = []\n",
    "for i, l in enumerate(lam_val):\n",
    "    lasso.alpha = l\n",
    "    lasso.fit(X_train, y_train)\n",
    "    val_pred = lasso.predict(X_val)\n",
    "    val_mae = np.mean(np.abs(val_pred - y_val))\n",
    "    val_errors.append(val_mae)"
   ]
  },
  {
   "cell_type": "code",
   "execution_count": null,
   "id": "3083dfe1-ab0c-4a33-bdd1-c5e801cffe28",
   "metadata": {},
   "outputs": [],
   "source": [
    "# Best lambda\n",
    "best_idx = np.argmin(val_errors)\n",
    "best_lambda = lam_val[best_idx]\n",
    "print(f\"Best lambda: {best_lambda:.6f}\")\n",
    "print(f\"Best validation MAE: {val_errors[best_idx]:.3f}\")"
   ]
  },
  {
   "cell_type": "code",
   "execution_count": null,
   "id": "7464abcc-637f-499c-bec1-f56cdcc946bd",
   "metadata": {},
   "outputs": [],
   "source": [
    "# Train model with best lambda\n",
    "lasso_final = Lasso(alpha=best_lambda, fit_intercept=True)\n",
    "lasso_final.fit(X_train, y_train)"
   ]
  },
  {
   "cell_type": "markdown",
   "id": "9d120224-4688-44be-bb33-75dc43fd0a0b",
   "metadata": {},
   "source": [
    "Evaluation"
   ]
  },
  {
   "cell_type": "code",
   "execution_count": 44,
   "id": "4e3d9545-83c0-4803-a590-c28a6899238b",
   "metadata": {},
   "outputs": [
    {
     "ename": "NameError",
     "evalue": "name 'lasso_final' is not defined",
     "output_type": "error",
     "traceback": [
      "\u001b[31m---------------------------------------------------------------------------\u001b[39m",
      "\u001b[31mNameError\u001b[39m                                 Traceback (most recent call last)",
      "\u001b[36mCell\u001b[39m\u001b[36m \u001b[39m\u001b[32mIn[44]\u001b[39m\u001b[32m, line 1\u001b[39m\n\u001b[32m----> \u001b[39m\u001b[32m1\u001b[39m test_pred = \u001b[43mlasso_final\u001b[49m.predict(X_test)\n\u001b[32m      2\u001b[39m test_mae = np.mean(np.abs(test_pred - y_test))\n\u001b[32m      3\u001b[39m test_rmse = np.sqrt(np.mean((test_pred - y_test)**\u001b[32m2\u001b[39m))\n",
      "\u001b[31mNameError\u001b[39m: name 'lasso_final' is not defined"
     ]
    }
   ],
   "source": [
    "test_pred = lasso_final.predict(X_test)\n",
    "test_mae = np.mean(np.abs(test_pred - y_test))\n",
    "test_rmse = np.sqrt(np.mean((test_pred - y_test)**2))\n",
    "test_r2 = 1 - np.sum((y_test - test_pred)**2) / np.sum((y_test - y_test.mean())**2)\n",
    "\n",
    "print(f\"Lasso Test MAE: {test_mae:.3f}\")\n",
    "print(f\"Lasso Test RMSE: {test_rmse:.3f}\")\n",
    "print(f\"Lasso Test R²: {test_r2:.3f}\")"
   ]
  },
  {
   "cell_type": "markdown",
   "id": "5fffc765-9bdd-41e2-8844-5fa6a15521aa",
   "metadata": {},
   "source": [
    "Find best alpha via Cross-validation"
   ]
  },
  {
   "cell_type": "code",
   "execution_count": 48,
   "id": "bd42e7b1-9109-428c-bf45-06748c187861",
   "metadata": {},
   "outputs": [],
   "source": [
    "def lasso_cv_path(X, y, lam_val, k_folds=5):\n",
    "    \"\"\"\n",
    "    Perform k-fold CV for each alpha in lam_val and return mean CV MAE.\n",
    "    \"\"\"\n",
    "    kf = KFold(n_splits=k_folds, shuffle=True, random_state=0)\n",
    "    mae_vals, rmse_vals, r2_vals = [], [], []\n",
    "\n",
    "    for alpha in lam_val:\n",
    "        maes, rmses, r2s = [], [], []\n",
    "        for train_idx, val_idx in kf.split(X):\n",
    "            X_tr, X_val = X[train_idx], X[val_idx]\n",
    "            y_tr, y_val = y[train_idx], y[val_idx]\n",
    "\n",
    "            model = Lasso(alpha=alpha, fit_intercept=True, max_iter=10000)\n",
    "            model.fit(X_tr, y_tr)\n",
    "            y_pred = model.predict(X_val)\n",
    "\n",
    "            maes.append(mean_absolute_error(y_val, y_pred))\n",
    "            rmses.append(np.sqrt(mean_squared_error(y_val, y_pred)))\n",
    "            r2s.append(r2_score(y_val, y_pred))\n",
    "        \n",
    "        mae_vals.append(np.mean(maes))\n",
    "        rmse_vals.append(np.mean(rmses))\n",
    "        r2_vals.append(np.mean(r2s))\n",
    "\n",
    "    return np.array(mae_vals), np.array(rmse_vals), np.array(r2_vals)"
   ]
  },
  {
   "cell_type": "code",
   "execution_count": null,
   "id": "99db39cf-b017-48fd-929e-fa630a76c7e1",
   "metadata": {},
   "outputs": [],
   "source": [
    "mae_vals, rmse_vals, r2_vals = lasso_cv_metrics(X_train, y_train, lam_val, k_folds=5)\n",
    "\n",
    "# Find best alpha\n",
    "best_idx    = np.argmin(mae_vals)\n",
    "best_alpha  = lam_val[best_idx]\n",
    "best_mae    = cv_mae[best_idx]\n",
    "print(f\"Best alpha: {best_alpha:.6e}, CV MAE: {best_mae:.3f}\")\n",
    "\n",
    "# Retrain with this\n",
    "X_full = np.vstack([X_train, X_val])\n",
    "y_full = np.concatenate([y_train, y_val])\n",
    "\n",
    "lasso_final = Lasso(alpha=best_alpha, fit_intercept=True, max_iter=10000)\n",
    "lasso_final.fit(X_full, y_full)\n",
    "\n",
    "# Evaluate on test set\n",
    "y_test_pred = lasso_final.predict(X_test)\n",
    "test_mae  = mean_absolute_error(y_test, y_test_pred)\n",
    "test_rmse = np.sqrt(np.mean((y_test - y_test_pred)**2))\n",
    "test_r2   = 1 - np.sum((y_test - y_test_pred)**2) / np.sum((y_test - y_test.mean())**2)\n",
    "\n",
    "print(f\"Test MAE:  {test_mae:.3f}\")\n",
    "print(f\"Test RMSE: {test_rmse:.3f}\")\n",
    "print(f\"Test R²:   {test_r2:.3f}\")"
   ]
  },
  {
   "cell_type": "markdown",
   "id": "92f1ecd8-e4f0-4d9a-8b0e-6a5de1ba1547",
   "metadata": {},
   "source": [
    "Crossvalidation error"
   ]
  },
  {
   "cell_type": "code",
   "execution_count": null,
   "id": "df9d1f06-df09-46ac-85d6-3966a4f727c9",
   "metadata": {},
   "outputs": [],
   "source": []
  }
 ],
 "metadata": {
  "kernelspec": {
   "display_name": "Python 3 (ipykernel)",
   "language": "python",
   "name": "python3"
  },
  "language_info": {
   "codemirror_mode": {
    "name": "ipython",
    "version": 3
   },
   "file_extension": ".py",
   "mimetype": "text/x-python",
   "name": "python",
   "nbconvert_exporter": "python",
   "pygments_lexer": "ipython3",
   "version": "3.12.11"
  }
 },
 "nbformat": 4,
 "nbformat_minor": 5
}
